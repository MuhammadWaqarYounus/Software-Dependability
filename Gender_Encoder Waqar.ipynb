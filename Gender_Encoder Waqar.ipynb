{
  "nbformat": 4,
  "nbformat_minor": 0,
  "metadata": {
    "colab": {
      "name": "Gender Encoder.ipynb",
      "provenance": [],
      "collapsed_sections": []
    },
    "kernelspec": {
      "name": "python3",
      "display_name": "Python 3"
    },
    "language_info": {
      "name": "python"
    }
  },
  "cells": [
    {
      "cell_type": "code",
      "metadata": {
        "colab": {
          "base_uri": "https://localhost:8080/"
        },
        "id": "Sv-NTFyZex46",
        "outputId": "eee817f5-7aa5-4c95-c3ca-a8124c6eb0e7"
      },
      "source": [
        "from google.colab import drive\n",
        "drive.mount('/content/drive')"
      ],
      "execution_count": null,
      "outputs": [
        {
          "output_type": "stream",
          "text": [
            "Drive already mounted at /content/drive; to attempt to forcibly remount, call drive.mount(\"/content/drive\", force_remount=True).\n"
          ],
          "name": "stdout"
        }
      ]
    },
    {
      "cell_type": "code",
      "metadata": {
        "colab": {
          "base_uri": "https://localhost:8080/"
        },
        "id": "HTRmLKU9fWSk",
        "outputId": "db5e5520-1b8e-4934-ee57-bf47693152a3"
      },
      "source": [
        "! ls"
      ],
      "execution_count": null,
      "outputs": [
        {
          "output_type": "stream",
          "text": [
            "drive  sample_data\n"
          ],
          "name": "stdout"
        }
      ]
    },
    {
      "cell_type": "code",
      "metadata": {
        "id": "q8q0cgKHf5t8"
      },
      "source": [
        "from scipy.spatial import distance as dist\n",
        "from imutils import face_utils\n",
        "import imutils\n",
        "import dlib\n",
        "import cv2\n",
        "import os\n",
        "import numpy as np\n",
        "import pandas as pd\n",
        "\n",
        "\n",
        "#Calculating Distances from d1 to d8\n",
        "\n",
        "def distance(mouth, nose, lefteye, righteye):\n",
        " d1 = dist.euclidean(mouth[0], mouth[6])\n",
        " d2 = dist.euclidean(mouth[3], mouth[9])\n",
        " d3 = dist.euclidean(mouth[0], nose[4])\n",
        " d4 = dist.euclidean(mouth[6], nose[8])\n",
        " d5 = dist.euclidean(mouth[0], righteye[0])\n",
        " d6 = dist.euclidean(mouth[6], lefteye[3])\n",
        " d7 = dist.euclidean(mouth[2], mouth[10])\n",
        " d8 = dist.euclidean(mouth[4], mouth[8])\n",
        "\n",
        " return d1,d2,d3,d4,d5,d6,d7,d8\n",
        "\n",
        "shape_predictor = '/content/drive/MyDrive/shape_predictor_68_face_landmarks.dat'\n",
        "\n",
        "detector = dlib.get_frontal_face_detector()\n",
        "predictor = dlib.shape_predictor(shape_predictor)\n",
        "\n",
        "(mStart, mEnd) = face_utils.FACIAL_LANDMARKS_IDXS['mouth']\n",
        "(nStart, nEnd) = face_utils.FACIAL_LANDMARKS_IDXS['nose']\n",
        "(eLStart, eLEnd) = face_utils.FACIAL_LANDMARKS_IDXS['left_eye']\n",
        "(eRStart, eREnd) = face_utils.FACIAL_LANDMARKS_IDXS['right_eye']\n",
        "\n",
        "\n",
        "directory = '/content/drive/MyDrive/RefinedDataSet'\n",
        "for filename in os.listdir(directory):\n",
        "    if filename.endswith(\".jpg\") or filename.endswith(\".png\"):\n",
        "        total= directory+'/'+filename\n",
        "        frame=cv2.imread(total)\n",
        "        frame=imutils.resize(frame, width=450)\n",
        "        gray=cv2.cvtColor(frame, cv2.COLOR_BGR2GRAY)\n",
        "        rects=detector(gray, 0)\n",
        "        for rect in rects:\n",
        "            shape = predictor(gray, rect)\n",
        "            shape = face_utils.shape_to_np(shape)\n",
        "\n",
        "            mouth = shape[mStart:mEnd]\n",
        "            nose = shape[nStart:nEnd]\n",
        "            lefteye = shape[eLStart:eLEnd]\n",
        "            rightteye = shape[eRStart:eREnd]\n",
        "            array=[distance(mouth, nose, lefteye, rightteye)]\n",
        "          #  print(array)\n",
        "          #Save Distances into CSV File\n",
        "            results=pd.DataFrame(array)\n",
        "            results.to_csv('result6.csv',mode='a',header='True',index='false')"
      ],
      "execution_count": null,
      "outputs": []
    },
    {
      "cell_type": "code",
      "metadata": {
        "colab": {
          "base_uri": "https://localhost:8080/"
        },
        "id": "t-Vj4dovhG1X",
        "outputId": "596e8984-1545-4cef-b125-fbbbb4927c01"
      },
      "source": [
        "\n",
        "\t#Naive Bayes Classifier\n",
        "\n",
        "import numpy as np\n",
        "import pandas as pd\n",
        "from sklearn.naive_bayes import GaussianNB\n",
        "from sklearn.model_selection import train_test_split\n",
        "from sklearn.metrics import accuracy_score\n",
        "from sklearn.preprocessing import StandardScaler\n",
        "from sklearn.metrics import classification_report, confusion_matrix, accuracy_score \n",
        "\n",
        "path ='/content/drive/MyDrive/result.csv'  #CSV PATH\n",
        "dataset = pd.read_csv(path)\n",
        "dataset.head()\n",
        "\n",
        "X = dataset.iloc[:,1:8].values\n",
        "y = dataset.iloc[:, 0].values\n",
        "\n",
        "features_train, features_test, target_train, target_test = train_test_split(X,\n",
        "y,\n",
        "test_size = 0.3)\n",
        "\n",
        "sc= StandardScaler() #DataPreProcessing Standarlization\n",
        "features_train=sc.fit_transform(features_train)\n",
        "features_test=sc.transform(features_test)\n",
        "\n",
        "model = GaussianNB()\n",
        "model.fit(features_train, target_train)\n",
        "\n",
        "pred = model.predict(features_test)\n",
        "accuracy = accuracy_score(target_test, pred)\n",
        "result=classification_report(target_test, pred)\n",
        "print(result)\n",
        "print(accuracy)"
      ],
      "execution_count": 12,
      "outputs": [
        {
          "output_type": "stream",
          "text": [
            "              precision    recall  f1-score   support\n",
            "\n",
            "           0       0.40      0.15      0.22        13\n",
            "           1       0.15      0.40      0.22         5\n",
            "\n",
            "    accuracy                           0.22        18\n",
            "   macro avg       0.28      0.28      0.22        18\n",
            "weighted avg       0.33      0.22      0.22        18\n",
            "\n",
            "0.2222222222222222\n"
          ],
          "name": "stdout"
        }
      ]
    },
    {
      "cell_type": "code",
      "metadata": {
        "id": "BJuPxoAvho2Q"
      },
      "source": [
        ""
      ],
      "execution_count": null,
      "outputs": []
    },
    {
      "cell_type": "code",
      "metadata": {
        "id": "9tKOcE7bh3fA"
      },
      "source": [
        ""
      ],
      "execution_count": null,
      "outputs": []
    }
  ]
}